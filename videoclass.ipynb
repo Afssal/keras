{
  "nbformat": 4,
  "nbformat_minor": 0,
  "metadata": {
    "colab": {
      "provenance": [],
      "gpuType": "T4",
      "mount_file_id": "1jH-m15fiKeuyIMM214lwfV91N_BHBnSm",
      "authorship_tag": "ABX9TyMGSG2bLV0gXmCP1B6BP6bH",
      "include_colab_link": true
    },
    "kernelspec": {
      "name": "python3",
      "display_name": "Python 3"
    },
    "language_info": {
      "name": "python"
    },
    "accelerator": "GPU"
  },
  "cells": [
    {
      "cell_type": "markdown",
      "metadata": {
        "id": "view-in-github",
        "colab_type": "text"
      },
      "source": [
        "<a href=\"https://colab.research.google.com/github/Afssal/keras/blob/master/videoclass.ipynb\" target=\"_parent\"><img src=\"https://colab.research.google.com/assets/colab-badge.svg\" alt=\"Open In Colab\"/></a>"
      ]
    },
    {
      "cell_type": "code",
      "execution_count": 1,
      "metadata": {
        "id": "3Es9rADOZxMa"
      },
      "outputs": [],
      "source": [
        "import os\n",
        "import cv2\n",
        "import numpy as np"
      ]
    },
    {
      "cell_type": "code",
      "source": [
        "from sklearn.model_selection import train_test_split"
      ],
      "metadata": {
        "id": "3ZzVhOLEa3eF"
      },
      "execution_count": 2,
      "outputs": []
    },
    {
      "cell_type": "code",
      "source": [
        "import keras\n",
        "from keras.models import Sequential,model_from_json\n",
        "from keras.layers import Dense\n",
        "from keras.layers import Conv3D\n",
        "from keras.layers import MaxPooling3D\n",
        "from keras.layers import Flatten,BatchNormalization,Dropout"
      ],
      "metadata": {
        "id": "OgiMq31Ha4mu"
      },
      "execution_count": 3,
      "outputs": []
    },
    {
      "cell_type": "code",
      "source": [
        "directory=\"/content/drive/MyDrive/Train\""
      ],
      "metadata": {
        "id": "5_T-4jYJa5TJ"
      },
      "execution_count": 4,
      "outputs": []
    },
    {
      "cell_type": "code",
      "source": [
        "classes=os.listdir(directory)"
      ],
      "metadata": {
        "id": "os9JhKHAa6Ov"
      },
      "execution_count": 5,
      "outputs": []
    },
    {
      "cell_type": "code",
      "source": [
        "num=len(classes)"
      ],
      "metadata": {
        "id": "miEoY9yEbAtw"
      },
      "execution_count": 6,
      "outputs": []
    },
    {
      "cell_type": "code",
      "source": [
        "def load_frame(video_path,num_frames=20,target_size=(128,128)):\n",
        "    frames=[]\n",
        "    cap=cv2.VideoCapture(video_path)\n",
        "\n",
        "    for _ in range(num_frames):\n",
        "        ret,frame=cap.read()\n",
        "        if not ret:\n",
        "            break\n",
        "        frame=cv2.resize(frame,target_size)\n",
        "        frame=frame/255.0\n",
        "        frames.append(frame)\n",
        "\n",
        "    cap.release()\n",
        "\n",
        "    while len(frames)<num_frames:\n",
        "        frames.append(np.zeros_like(frames[0]))\n",
        "    frames=frames[:num_frames]\n",
        "\n",
        "    frames=np.array(frames)\n",
        "\n",
        "    return frames"
      ],
      "metadata": {
        "id": "f1e7jtxsbDPB"
      },
      "execution_count": 7,
      "outputs": []
    },
    {
      "cell_type": "code",
      "source": [
        "def load_dataset(directory,classes):\n",
        "    x=[]\n",
        "    y=[]\n",
        "    for i, class_name in enumerate(classes):\n",
        "        class_dir=os.path.join(directory,class_name)\n",
        "        for video_file in os.listdir(class_dir):\n",
        "            video_path=os.path.join(class_dir,video_file)\n",
        "            frames=load_frame(video_path)\n",
        "            x.append(frames)\n",
        "            y.append(i)\n",
        "\n",
        "    x=np.array(x)\n",
        "    y=np.array(y)\n",
        "\n",
        "    return x,y\n"
      ],
      "metadata": {
        "id": "Oxas7xwGbEZh"
      },
      "execution_count": 8,
      "outputs": []
    },
    {
      "cell_type": "code",
      "source": [
        "x,y=load_dataset(directory,classes)"
      ],
      "metadata": {
        "id": "xp1uaYEebFv6"
      },
      "execution_count": 9,
      "outputs": []
    },
    {
      "cell_type": "code",
      "source": [
        "in_shape=x.shape[1:]"
      ],
      "metadata": {
        "id": "pu14y7n7bG_F"
      },
      "execution_count": 10,
      "outputs": []
    },
    {
      "cell_type": "code",
      "source": [
        "x_train,x_test,y_train,y_test=train_test_split(x,y,test_size=0.2,random_state=42)"
      ],
      "metadata": {
        "id": "o2wKMWJzbIXx"
      },
      "execution_count": 11,
      "outputs": []
    },
    {
      "cell_type": "code",
      "source": [
        "model=Sequential()\n",
        "model.add(Conv3D(32, kernel_size=(3, 3, 3), input_shape=in_shape, activation='relu'))\n",
        "model.add(BatchNormalization())\n",
        "model.add(MaxPooling3D(pool_size=(2,2,2),strides=(2,2,2)))\n",
        "\n",
        "model.add(Conv3D(32,(3,3,3),strides=(1,1,1),activation='relu'))\n",
        "model.add(BatchNormalization())\n",
        "model.add(MaxPooling3D(pool_size=(2,2,2),strides=(2,2,2)))\n",
        "\n",
        "\n",
        "model.add(Flatten())\n",
        "model.add(Dense(128,activation='relu'))\n",
        "model.add(Dropout(0.2))\n",
        "model.add(Dense(64,activation='relu'))\n",
        "model.add(Dropout(0.2))\n",
        "model.add(Dense(num,activation='softmax'))"
      ],
      "metadata": {
        "id": "JjnuMtFKbJfh"
      },
      "execution_count": 18,
      "outputs": []
    },
    {
      "cell_type": "code",
      "source": [
        "model.compile(optimizer='adam',loss='sparse_categorical_crossentropy',metrics=['accuracy'])"
      ],
      "metadata": {
        "id": "yuKJNgN9bK0c"
      },
      "execution_count": 19,
      "outputs": []
    },
    {
      "cell_type": "code",
      "source": [
        "model.fit(x_train,y_train,validation_data=(x_test,y_test),epochs=10)"
      ],
      "metadata": {
        "colab": {
          "base_uri": "https://localhost:8080/"
        },
        "id": "RC1ieYtIbMZD",
        "outputId": "cd21e2ca-d3e6-4309-a27e-1bbe2ede69a5"
      },
      "execution_count": 21,
      "outputs": [
        {
          "output_type": "stream",
          "name": "stdout",
          "text": [
            "Epoch 1/10\n",
            "5/5 [==============================] - 3s 625ms/step - loss: 0.3322 - accuracy: 0.9688 - val_loss: 30.3875 - val_accuracy: 0.2250\n",
            "Epoch 2/10\n",
            "5/5 [==============================] - 2s 444ms/step - loss: 0.0554 - accuracy: 0.9875 - val_loss: 14.3586 - val_accuracy: 0.2250\n",
            "Epoch 3/10\n",
            "5/5 [==============================] - 2s 442ms/step - loss: 0.1550 - accuracy: 0.9750 - val_loss: 2.0322 - val_accuracy: 0.6000\n",
            "Epoch 4/10\n",
            "5/5 [==============================] - 2s 446ms/step - loss: 0.0703 - accuracy: 0.9875 - val_loss: 2.2582 - val_accuracy: 0.6000\n",
            "Epoch 5/10\n",
            "5/5 [==============================] - 2s 444ms/step - loss: 0.0000e+00 - accuracy: 1.0000 - val_loss: 5.5034 - val_accuracy: 0.4250\n",
            "Epoch 6/10\n",
            "5/5 [==============================] - 3s 538ms/step - loss: 0.4254 - accuracy: 0.9875 - val_loss: 1.2934 - val_accuracy: 0.6750\n",
            "Epoch 7/10\n",
            "5/5 [==============================] - 2s 481ms/step - loss: 0.1298 - accuracy: 0.9875 - val_loss: 3.3001 - val_accuracy: 0.4500\n",
            "Epoch 8/10\n",
            "5/5 [==============================] - 2s 456ms/step - loss: 0.3402 - accuracy: 0.9937 - val_loss: 6.6017 - val_accuracy: 0.3750\n",
            "Epoch 9/10\n",
            "5/5 [==============================] - 2s 455ms/step - loss: 0.0257 - accuracy: 0.9937 - val_loss: 9.6758 - val_accuracy: 0.3750\n",
            "Epoch 10/10\n",
            "5/5 [==============================] - 2s 449ms/step - loss: 0.1611 - accuracy: 0.9937 - val_loss: 3.6856 - val_accuracy: 0.6000\n"
          ]
        },
        {
          "output_type": "execute_result",
          "data": {
            "text/plain": [
              "<keras.src.callbacks.History at 0x7f644cf890c0>"
            ]
          },
          "metadata": {},
          "execution_count": 21
        }
      ]
    },
    {
      "cell_type": "code",
      "source": [
        "from google.colab import drive\n",
        "drive.mount('/content/drive')"
      ],
      "metadata": {
        "colab": {
          "base_uri": "https://localhost:8080/"
        },
        "id": "plafTkUJJe2M",
        "outputId": "5967d2f3-7f51-4dde-c3eb-a3e9e3791ff5"
      },
      "execution_count": 1,
      "outputs": [
        {
          "output_type": "stream",
          "name": "stdout",
          "text": [
            "Mounted at /content/drive\n"
          ]
        }
      ]
    }
  ]
}