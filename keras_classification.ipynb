{
  "nbformat": 4,
  "nbformat_minor": 0,
  "metadata": {
    "colab": {
      "provenance": [],
      "gpuType": "T4",
      "mount_file_id": "1WB0Ts3Vtq0MIas4Lxv7jdh1HlBkczbxu",
      "authorship_tag": "ABX9TyMhgGheQf/YEQC6fJGG16h4",
      "include_colab_link": true
    },
    "kernelspec": {
      "name": "python3",
      "display_name": "Python 3"
    },
    "language_info": {
      "name": "python"
    },
    "accelerator": "GPU"
  },
  "cells": [
    {
      "cell_type": "markdown",
      "metadata": {
        "id": "view-in-github",
        "colab_type": "text"
      },
      "source": [
        "<a href=\"https://colab.research.google.com/github/Afssal/keras/blob/master/keras_classification.ipynb\" target=\"_parent\"><img src=\"https://colab.research.google.com/assets/colab-badge.svg\" alt=\"Open In Colab\"/></a>"
      ]
    },
    {
      "cell_type": "code",
      "execution_count": null,
      "metadata": {
        "colab": {
          "base_uri": "https://localhost:8080/"
        },
        "id": "oI8oGE3H4g6s",
        "outputId": "e06734a6-e70d-457a-e46f-f94e8b5f833d"
      },
      "outputs": [
        {
          "output_type": "stream",
          "name": "stdout",
          "text": [
            "File /content/drive/MyDrive/archive (2).zip has been successfully extracted to /content/drive/MyDrive/intel.\n"
          ]
        }
      ],
      "source": [
        "# Import the zipfile module\n",
        "import zipfile\n",
        "\n",
        "# Specify the path to the zip file\n",
        "zip_file_path = '/content/drive/MyDrive/archive (2).zip'  # Replace with the actual path\n",
        "\n",
        "# Specify the directory where you want to extract the contents\n",
        "extracted_dir_path = '/content/drive/MyDrive/intel'  # Replace with the desired extraction path\n",
        "\n",
        "# Open the zip file\n",
        "with zipfile.ZipFile(zip_file_path, 'r') as zip_ref:\n",
        "    # Extract all the contents to the specified directory\n",
        "    zip_ref.extractall(extracted_dir_path)\n",
        "\n",
        "# Print a message indicating successful extraction\n",
        "print(f'File {zip_file_path} has been successfully extracted to {extracted_dir_path}.')\n"
      ]
    },
    {
      "cell_type": "code",
      "source": [],
      "metadata": {
        "id": "HID4DQFf6peW"
      },
      "execution_count": null,
      "outputs": []
    },
    {
      "cell_type": "code",
      "source": [
        "import keras\n",
        "from keras.models import Sequential,model_from_json\n",
        "from keras.layers import Dense\n",
        "from keras.layers import Conv2D\n",
        "from keras.layers import MaxPooling2D\n",
        "from keras.layers import Flatten,BatchNormalization,Dropout"
      ],
      "metadata": {
        "id": "DJnPM0Xg4zUh"
      },
      "execution_count": null,
      "outputs": []
    },
    {
      "cell_type": "code",
      "source": [
        "from tensorflow import keras\n",
        "\n",
        "train_ds = keras.utils.image_dataset_from_directory(\n",
        "    directory='/content/drive/MyDrive/intel/seg_train/seg_train',\n",
        "    labels='inferred',\n",
        "    label_mode='categorical',\n",
        "    batch_size=32,\n",
        "    color_mode='grayscale',\n",
        "    image_size=(256, 256))\n",
        "test_ds = keras.utils.image_dataset_from_directory(\n",
        "    directory='/content/drive/MyDrive/intel/seg_test/seg_test',\n",
        "    labels='inferred',\n",
        "    label_mode='categorical',\n",
        "    batch_size=32,\n",
        "    color_mode='grayscale',\n",
        "    image_size=(256, 256))"
      ],
      "metadata": {
        "colab": {
          "base_uri": "https://localhost:8080/"
        },
        "id": "kvyPIlhA6r8Y",
        "outputId": "143ba321-b8b8-48bc-e066-8c3dca0b4226"
      },
      "execution_count": null,
      "outputs": [
        {
          "output_type": "stream",
          "name": "stdout",
          "text": [
            "Found 14034 files belonging to 6 classes.\n",
            "Found 3000 files belonging to 6 classes.\n"
          ]
        }
      ]
    },
    {
      "cell_type": "code",
      "source": [
        "in_shape=(256,256,1)"
      ],
      "metadata": {
        "id": "I3-Y6K3b63Ob"
      },
      "execution_count": null,
      "outputs": []
    },
    {
      "cell_type": "code",
      "source": [
        "model=Sequential()\n",
        "model.add(Conv2D(64,(5,5),strides=(1,1),activation='relu',input_shape=in_shape))\n",
        "model.add(BatchNormalization())\n",
        "model.add(MaxPooling2D(pool_size=(2,2),strides=(2,2)))\n",
        "model.add(Dropout(0.2))\n",
        "\n",
        "model.add(Conv2D(128,(5,5),strides=(1,1),activation='relu'))\n",
        "model.add(BatchNormalization())\n",
        "model.add(MaxPooling2D(pool_size=(2,2),strides=(2,2)))\n",
        "model.add(Dropout(0.2))\n",
        "\n",
        "model.add(Conv2D(32,(5,5),strides=(1,1),activation='relu'))\n",
        "model.add(BatchNormalization())\n",
        "model.add(MaxPooling2D(pool_size=(2,2),strides=(2,2)))\n",
        "model.add(Dropout(0.2))\n",
        "\n",
        "model.add(Flatten())\n",
        "model.add(Dense(128,activation='relu'))\n",
        "model.add(Dense(6,activation='softmax'))"
      ],
      "metadata": {
        "id": "iMPkwS5v44Hf"
      },
      "execution_count": null,
      "outputs": []
    },
    {
      "cell_type": "code",
      "source": [
        "model.compile(optimizer='adam',loss='categorical_crossentropy',metrics=['accuracy'])"
      ],
      "metadata": {
        "id": "PVdENorF47mC"
      },
      "execution_count": null,
      "outputs": []
    },
    {
      "cell_type": "code",
      "source": [
        "model.fit(train_ds,validation_data=test_ds,epochs=10)"
      ],
      "metadata": {
        "colab": {
          "base_uri": "https://localhost:8080/"
        },
        "id": "l__Aykwk49aW",
        "outputId": "1352a3b6-6cbc-4e69-e855-b721c0aafade"
      },
      "execution_count": null,
      "outputs": [
        {
          "output_type": "stream",
          "name": "stdout",
          "text": [
            "Epoch 1/10\n",
            "439/439 [==============================] - 147s 315ms/step - loss: 1.7380 - accuracy: 0.5780 - val_loss: 3.0309 - val_accuracy: 0.3117\n",
            "Epoch 2/10\n",
            "439/439 [==============================] - 140s 319ms/step - loss: 0.7716 - accuracy: 0.7179 - val_loss: 1.4363 - val_accuracy: 0.5553\n",
            "Epoch 3/10\n",
            "439/439 [==============================] - 140s 318ms/step - loss: 0.6026 - accuracy: 0.7791 - val_loss: 0.9369 - val_accuracy: 0.6613\n",
            "Epoch 4/10\n",
            "439/439 [==============================] - 138s 314ms/step - loss: 0.4808 - accuracy: 0.8226 - val_loss: 8.6810 - val_accuracy: 0.4500\n",
            "Epoch 5/10\n",
            "439/439 [==============================] - 134s 305ms/step - loss: 0.3759 - accuracy: 0.8598 - val_loss: 0.8014 - val_accuracy: 0.7443\n",
            "Epoch 6/10\n",
            "439/439 [==============================] - 136s 309ms/step - loss: 0.3113 - accuracy: 0.8840 - val_loss: 1.1260 - val_accuracy: 0.6920\n",
            "Epoch 7/10\n",
            "439/439 [==============================] - 135s 306ms/step - loss: 0.2625 - accuracy: 0.9038 - val_loss: 1.4556 - val_accuracy: 0.6250\n",
            "Epoch 8/10\n",
            "439/439 [==============================] - 134s 305ms/step - loss: 0.2017 - accuracy: 0.9272 - val_loss: 4.2524 - val_accuracy: 0.5693\n",
            "Epoch 9/10\n",
            "439/439 [==============================] - 134s 305ms/step - loss: 0.1799 - accuracy: 0.9347 - val_loss: 1.1021 - val_accuracy: 0.7523\n",
            "Epoch 10/10\n",
            "439/439 [==============================] - 136s 309ms/step - loss: 0.1328 - accuracy: 0.9538 - val_loss: 1.3398 - val_accuracy: 0.7230\n"
          ]
        },
        {
          "output_type": "execute_result",
          "data": {
            "text/plain": [
              "<keras.src.callbacks.History at 0x7dfd72c092d0>"
            ]
          },
          "metadata": {},
          "execution_count": 10
        }
      ]
    },
    {
      "cell_type": "code",
      "source": [
        "test_loss, test_accuracy = model.evaluate(test_ds)\n",
        "print(f'Test Accuracy: {test_accuracy * 100:.2f}%')"
      ],
      "metadata": {
        "colab": {
          "base_uri": "https://localhost:8080/"
        },
        "id": "XdcDZ7u2lhrj",
        "outputId": "5f890e50-b461-4b65-fe29-9223fa6008d1"
      },
      "execution_count": null,
      "outputs": [
        {
          "output_type": "stream",
          "name": "stdout",
          "text": [
            "94/94 [==============================] - 5s 54ms/step - loss: 1.3398 - accuracy: 0.7230\n",
            "Test Accuracy: 72.30%\n"
          ]
        }
      ]
    },
    {
      "cell_type": "code",
      "source": [
        "model_json = model.to_json()\n",
        "with open(\"model.json\", \"w\") as json_file:\n",
        "    json_file.write(model_json)\n",
        "model.save_weights(\"model.h5\")\n",
        "print(\"Saved model to disk\")"
      ],
      "metadata": {
        "colab": {
          "base_uri": "https://localhost:8080/"
        },
        "id": "QwLUMR1ZkZs0",
        "outputId": "3285f783-825d-4193-c1d0-6f834eae5cdc"
      },
      "execution_count": null,
      "outputs": [
        {
          "output_type": "stream",
          "name": "stdout",
          "text": [
            "Saved model to disk\n"
          ]
        }
      ]
    },
    {
      "cell_type": "code",
      "source": [
        "json_file = open('/content/model.json', 'r')\n",
        "loaded_model_json = json_file.read()\n",
        "json_file.close()\n",
        "loaded_model = model_from_json(loaded_model_json)\n",
        "loaded_model.load_weights(\"/content/model.h5\")\n",
        "print(\"Loaded model from disk\")"
      ],
      "metadata": {
        "colab": {
          "base_uri": "https://localhost:8080/"
        },
        "id": "BdDnlSz6kexb",
        "outputId": "0297bb96-47eb-4c49-82c2-e65d8e30ee18"
      },
      "execution_count": null,
      "outputs": [
        {
          "output_type": "stream",
          "name": "stdout",
          "text": [
            "Loaded model from disk\n"
          ]
        }
      ]
    }
  ]
}